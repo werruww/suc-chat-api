{
  "nbformat": 4,
  "nbformat_minor": 0,
  "metadata": {
    "colab": {
      "provenance": []
    },
    "kernelspec": {
      "name": "python3",
      "display_name": "Python 3"
    },
    "language_info": {
      "name": "python"
    }
  },
  "cells": [
    {
      "cell_type": "code",
      "execution_count": null,
      "metadata": {
        "id": "J0Gcump19lRB"
      },
      "outputs": [],
      "source": []
    },
    {
      "cell_type": "code",
      "source": [],
      "metadata": {
        "id": "YDk1Il5G9nGf"
      },
      "execution_count": null,
      "outputs": []
    },
    {
      "cell_type": "code",
      "source": [],
      "metadata": {
        "id": "d5n5LSiM9nJu"
      },
      "execution_count": null,
      "outputs": []
    },
    {
      "cell_type": "code",
      "source": [],
      "metadata": {
        "id": "ceqDk8Im9nMm"
      },
      "execution_count": null,
      "outputs": []
    },
    {
      "cell_type": "code",
      "source": [
        "!pip install google-generativeai"
      ],
      "metadata": {
        "colab": {
          "base_uri": "https://localhost:8080/"
        },
        "id": "oRDEXNjCvW1s",
        "outputId": "23b51d68-bcac-44cf-ee86-816ac88fe751"
      },
      "execution_count": 1,
      "outputs": [
        {
          "output_type": "stream",
          "name": "stdout",
          "text": [
            "Requirement already satisfied: google-generativeai in /usr/local/lib/python3.11/dist-packages (0.8.5)\n",
            "Requirement already satisfied: google-ai-generativelanguage==0.6.15 in /usr/local/lib/python3.11/dist-packages (from google-generativeai) (0.6.15)\n",
            "Requirement already satisfied: google-api-core in /usr/local/lib/python3.11/dist-packages (from google-generativeai) (2.24.2)\n",
            "Requirement already satisfied: google-api-python-client in /usr/local/lib/python3.11/dist-packages (from google-generativeai) (2.169.0)\n",
            "Requirement already satisfied: google-auth>=2.15.0 in /usr/local/lib/python3.11/dist-packages (from google-generativeai) (2.38.0)\n",
            "Requirement already satisfied: protobuf in /usr/local/lib/python3.11/dist-packages (from google-generativeai) (5.29.4)\n",
            "Requirement already satisfied: pydantic in /usr/local/lib/python3.11/dist-packages (from google-generativeai) (2.11.4)\n",
            "Requirement already satisfied: tqdm in /usr/local/lib/python3.11/dist-packages (from google-generativeai) (4.67.1)\n",
            "Requirement already satisfied: typing-extensions in /usr/local/lib/python3.11/dist-packages (from google-generativeai) (4.13.2)\n",
            "Requirement already satisfied: proto-plus<2.0.0dev,>=1.22.3 in /usr/local/lib/python3.11/dist-packages (from google-ai-generativelanguage==0.6.15->google-generativeai) (1.26.1)\n",
            "Requirement already satisfied: googleapis-common-protos<2.0.0,>=1.56.2 in /usr/local/lib/python3.11/dist-packages (from google-api-core->google-generativeai) (1.70.0)\n",
            "Requirement already satisfied: requests<3.0.0,>=2.18.0 in /usr/local/lib/python3.11/dist-packages (from google-api-core->google-generativeai) (2.32.3)\n",
            "Requirement already satisfied: cachetools<6.0,>=2.0.0 in /usr/local/lib/python3.11/dist-packages (from google-auth>=2.15.0->google-generativeai) (5.5.2)\n",
            "Requirement already satisfied: pyasn1-modules>=0.2.1 in /usr/local/lib/python3.11/dist-packages (from google-auth>=2.15.0->google-generativeai) (0.4.2)\n",
            "Requirement already satisfied: rsa<5,>=3.1.4 in /usr/local/lib/python3.11/dist-packages (from google-auth>=2.15.0->google-generativeai) (4.9.1)\n",
            "Requirement already satisfied: httplib2<1.0.0,>=0.19.0 in /usr/local/lib/python3.11/dist-packages (from google-api-python-client->google-generativeai) (0.22.0)\n",
            "Requirement already satisfied: google-auth-httplib2<1.0.0,>=0.2.0 in /usr/local/lib/python3.11/dist-packages (from google-api-python-client->google-generativeai) (0.2.0)\n",
            "Requirement already satisfied: uritemplate<5,>=3.0.1 in /usr/local/lib/python3.11/dist-packages (from google-api-python-client->google-generativeai) (4.1.1)\n",
            "Requirement already satisfied: annotated-types>=0.6.0 in /usr/local/lib/python3.11/dist-packages (from pydantic->google-generativeai) (0.7.0)\n",
            "Requirement already satisfied: pydantic-core==2.33.2 in /usr/local/lib/python3.11/dist-packages (from pydantic->google-generativeai) (2.33.2)\n",
            "Requirement already satisfied: typing-inspection>=0.4.0 in /usr/local/lib/python3.11/dist-packages (from pydantic->google-generativeai) (0.4.0)\n",
            "Requirement already satisfied: grpcio<2.0dev,>=1.33.2 in /usr/local/lib/python3.11/dist-packages (from google-api-core[grpc]!=2.0.*,!=2.1.*,!=2.10.*,!=2.2.*,!=2.3.*,!=2.4.*,!=2.5.*,!=2.6.*,!=2.7.*,!=2.8.*,!=2.9.*,<3.0.0dev,>=1.34.1->google-ai-generativelanguage==0.6.15->google-generativeai) (1.71.0)\n",
            "Requirement already satisfied: grpcio-status<2.0.dev0,>=1.33.2 in /usr/local/lib/python3.11/dist-packages (from google-api-core[grpc]!=2.0.*,!=2.1.*,!=2.10.*,!=2.2.*,!=2.3.*,!=2.4.*,!=2.5.*,!=2.6.*,!=2.7.*,!=2.8.*,!=2.9.*,<3.0.0dev,>=1.34.1->google-ai-generativelanguage==0.6.15->google-generativeai) (1.71.0)\n",
            "Requirement already satisfied: pyparsing!=3.0.0,!=3.0.1,!=3.0.2,!=3.0.3,<4,>=2.4.2 in /usr/local/lib/python3.11/dist-packages (from httplib2<1.0.0,>=0.19.0->google-api-python-client->google-generativeai) (3.2.3)\n",
            "Requirement already satisfied: pyasn1<0.7.0,>=0.6.1 in /usr/local/lib/python3.11/dist-packages (from pyasn1-modules>=0.2.1->google-auth>=2.15.0->google-generativeai) (0.6.1)\n",
            "Requirement already satisfied: charset-normalizer<4,>=2 in /usr/local/lib/python3.11/dist-packages (from requests<3.0.0,>=2.18.0->google-api-core->google-generativeai) (3.4.1)\n",
            "Requirement already satisfied: idna<4,>=2.5 in /usr/local/lib/python3.11/dist-packages (from requests<3.0.0,>=2.18.0->google-api-core->google-generativeai) (3.10)\n",
            "Requirement already satisfied: urllib3<3,>=1.21.1 in /usr/local/lib/python3.11/dist-packages (from requests<3.0.0,>=2.18.0->google-api-core->google-generativeai) (2.4.0)\n",
            "Requirement already satisfied: certifi>=2017.4.17 in /usr/local/lib/python3.11/dist-packages (from requests<3.0.0,>=2.18.0->google-api-core->google-generativeai) (2025.4.26)\n"
          ]
        }
      ]
    },
    {
      "cell_type": "code",
      "source": [
        "import google.generativeai as genai\n",
        "import os\n",
        "\n",
        "def initialize_gemini(api_key):\n",
        "    \"\"\"تهيئة نموذج Gemini باستخدام مفتاح API\"\"\"\n",
        "    genai.configure(api_key=api_key)\n",
        "    return genai.GenerativeModel('gemini-1.5-flash')lk\n",
        "def generate_text(model, prompt, temperature=0.7, max_tokens=500):\n",
        "    \"\"\"إنشاء نص بناء على المُدخل\"\"\"\n",
        "    config = {\n",
        "        'temperature': temperature,\n",
        "        'max_output_tokens': max_tokens\n",
        "    }\n",
        "    response = model.generate_content(prompt, generation_config=config)\n",
        "    return response.text\n",
        "\n",
        "def main():\n",
        "    # الحصول على مفتاح API من المتغيرات البيئية\n",
        "    api_key = os.getenv('GEMINI_API_KEY') or input(\"أدخل مفتاح API الخاص بك: \")\n",
        "\n",
        "    # تهيئة النموذج\n",
        "    model = initialize_gemini(api_key)\n",
        "\n",
        "    while True:\n",
        "        # الحصول على المدخلات من المستخدم\n",
        "        prompt = input(\"\\nأدخل النص الأولي (أو 'exit' للخروج): \")\n",
        "\n",
        "        if prompt.lower() == 'exit':\n",
        "            break\n",
        "\n",
        "        # توليد النص\n",
        "        try:\n",
        "            generated_text = generate_text(model, prompt)\n",
        "            print(\"\\nالنص المُنشأ:\")\n",
        "            print(generated_text)\n",
        "        except Exception as e:\n",
        "            print(f\"حدث خطأ: {str(e)}\")\n",
        "\n",
        "if __name__ == \"__main__\":\n",
        "    main()"
      ],
      "metadata": {
        "id": "5KOyhMwcvXdO"
      },
      "execution_count": null,
      "outputs": []
    },
    {
      "cell_type": "code",
      "source": [
        "import google.generativeai as genai\n",
        "\n",
        "def initialize_gemini(api_key):\n",
        "    \"\"\"Configure a Gemini model using an API key\"\"\"\n",
        "    genai.configure(api_key=api_key)\n",
        "    return genai.GenerativeModel('gemini-1.5-flash')  # تأكد من صحة اسم النموذج\n",
        "\n",
        "def generate_text(model, prompt, temperature=0.7, max_tokens=500):\n",
        "    \"Create text based on input\"\n",
        "    config = {\n",
        "        'temperature': temperature,\n",
        "        'max_output_tokens': max_tokens\n",
        "    }\n",
        "    response = model.generate_content(prompt, generation_config=config)\n",
        "    return response.text\n",
        "\n",
        "def main():\n",
        "    #  تحذير أمني: لا تخزن المفاتيح بشكل ثابت في الكود!\n",
        "    api_key = \"XXXXXXXXXXXXXXXXXXXXXXXXXXXXXXXXXXXXXXXXXXXXXXXXXX\"  # مفتاحك هنا\n",
        "\n",
        "    # تهيئة النموذج\n",
        "    model = initialize_gemini(api_key)\n",
        "\n",
        "    while True:\n",
        "        prompt = input(\"\\nEnter initial text (or 'exit' to exit): \")\n",
        "\n",
        "        if prompt.lower() == 'exit':\n",
        "            break\n",
        "\n",
        "        try:\n",
        "            generated_text = generate_text(model, prompt)\n",
        "            print(\"\\nGenerated text:\")\n",
        "            print(generated_text)\n",
        "        except Exception as e:\n",
        "            print(f\"An error occurred: {str(e)}\")\n",
        "\n",
        "if __name__ == \"__main__\":\n",
        "    main()"
      ],
      "metadata": {
        "colab": {
          "base_uri": "https://localhost:8080/",
          "height": 295
        },
        "id": "A6K3kfCT-18P",
        "outputId": "b7d8eeb4-ea4d-4acb-ca7c-7049252945a4"
      },
      "execution_count": 2,
      "outputs": [
        {
          "name": "stdout",
          "output_type": "stream",
          "text": [
            "\n",
            "Enter initial text (or 'exit' to exit): lh in uhwlm tvksh?\n",
            "\n",
            "Generated text:\n",
            "This looks like a Caesar cipher (a type of substitution cipher).  Shifting each letter back three positions in the alphabet reveals the message:\n",
            "\n",
            "**\"key in what box?\"**\n",
            "\n",
            "\n",
            "Enter initial text (or 'exit' to exit): ما هى عاصمة فرنسا؟\n",
            "\n",
            "Generated text:\n",
            "عاصمة فرنسا هي باريس.\n",
            "\n",
            "\n",
            "Enter initial text (or 'exit' to exit): exit\n"
          ]
        }
      ]
    }
  ]
}